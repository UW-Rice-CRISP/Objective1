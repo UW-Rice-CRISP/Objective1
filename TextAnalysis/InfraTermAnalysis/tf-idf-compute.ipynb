{
 "cells": [
  {
   "cell_type": "markdown",
   "metadata": {},
   "source": [
    "Calculating tf-idf stats\n",
    "============="
   ]
  },
  {
   "cell_type": "code",
   "execution_count": 1,
   "metadata": {
    "collapsed": false
   },
   "outputs": [
    {
     "name": "stderr",
     "output_type": "stream",
     "text": [
      "/usr/local/lib/python3.5/site-packages/sklearn/utils/fixes.py:64: DeprecationWarning: inspect.getargspec() is deprecated, use inspect.signature() instead\n",
      "  if 'order' in inspect.getargspec(np.copy)[0]:\n"
     ]
    }
   ],
   "source": [
    "import json\n",
    "import matplotlib\n",
    "import nltk\n",
    "import operator\n",
    "import os\n",
    "\n",
    "from collections import defaultdict\n",
    "from matplotlib import pyplot as plt\n",
    "from sklearn.feature_extraction.text import TfidfVectorizer\n",
    "\n",
    "%matplotlib inline"
   ]
  },
  {
   "cell_type": "markdown",
   "metadata": {},
   "source": [
    "Some basic stuff...\n",
    "-------------------"
   ]
  },
  {
   "cell_type": "markdown",
   "metadata": {},
   "source": [
    "Load words from corpus."
   ]
  },
  {
   "cell_type": "code",
   "execution_count": 2,
   "metadata": {
    "collapsed": true
   },
   "outputs": [],
   "source": [
    "article_dir = \"../../TextData/CanterburyNewsStoriesCleaned/\"\n",
    "\n",
    "# PlaintextCorpusReader in jupyter vomits on the number of articles we have,\n",
    "# so do it the old-fashioned way.\n",
    "raw_articles = {}\n",
    "for article_fn in os.listdir(article_dir):\n",
    "    with open(os.path.join(article_dir, article_fn), \"r+\") as f:\n",
    "        raw = f.read()\n",
    "        \n",
    "    raw_articles[article_fn] = raw"
   ]
  },
  {
   "cell_type": "markdown",
   "metadata": {},
   "source": [
    "Load vocab..."
   ]
  },
  {
   "cell_type": "code",
   "execution_count": 3,
   "metadata": {
    "collapsed": true
   },
   "outputs": [],
   "source": [
    "vocab_fn = \"vocab.txt\"\n",
    "with open(vocab_fn, \"r+\") as f:\n",
    "    vocab = json.load(f)\n",
    "vocab_set = {x for v in vocab.values() for x in v} # unpacking this a little..."
   ]
  },
  {
   "cell_type": "markdown",
   "metadata": {},
   "source": [
    "Load some basic pre-recorded counts (i.e. the tf parts of tf-idf), draw some stuff, and find some interesting files."
   ]
  },
  {
   "cell_type": "code",
   "execution_count": 4,
   "metadata": {
    "collapsed": false
   },
   "outputs": [
    {
     "data": {
      "text/plain": [
       "[('water', 579), ('power', 475), ('road', 374), ('port', 255), ('roads', 199)]"
      ]
     },
     "execution_count": 4,
     "metadata": {},
     "output_type": "execute_result"
    }
   ],
   "source": [
    "counts_per_file_fn = \"counts_per_file.txt\"\n",
    "with open(counts_per_file_fn, \"r+\") as f:\n",
    "    counts_per_file = json.load(f)\n",
    "\n",
    "counts_agg_fn = \"counts_aggregate.txt\"\n",
    "with open(counts_agg_fn, \"r+\") as f:\n",
    "    counts_agg = json.load(f)\n",
    "\n",
    "sorted_counts = sorted(counts_agg.items(), key=lambda x: -x[1])\n",
    "sorted_counts[:5]"
   ]
  },
  {
   "cell_type": "code",
   "execution_count": 5,
   "metadata": {
    "collapsed": false
   },
   "outputs": [
    {
     "data": {
      "image/png": "[encoded data removed]",
      "text/plain": [
       "<matplotlib.figure.Figure at 0x1133002e8>"
      ]
     },
     "metadata": {},
     "output_type": "display_data"
    }
   ],
   "source": [
    "# Plot! Nothing hugely sophisticated - should've probably lemmatized &etc. here\n",
    "fd = nltk.FreqDist(counts_agg)\n",
    "fd.plot(30, cumulative=False)"
   ]
  },
  {
   "cell_type": "code",
   "execution_count": 6,
   "metadata": {
    "collapsed": false
   },
   "outputs": [
    {
     "data": {
      "text/plain": [
       "[('article-96.cfm_nzh.txt', 22),\n",
       " ('article-300.cfm_nzh.txt', 22),\n",
       " ('article-112.cfm_nzh.txt', 17),\n",
       " ('article-163.cfm_nzh.txt', 16),\n",
       " ('Huge-earthquake-rocks-Christchurch_stuff.txt', 15)]"
      ]
     },
     "execution_count": 6,
     "metadata": {},
     "output_type": "execute_result"
    }
   ],
   "source": [
    "# Most frequent occurrences of the specific word 'water'.\n",
    "counts_water = {}\n",
    "for file, vals in counts_per_file.items():\n",
    "    if 'water' in vals and vals['water'] > 0:\n",
    "        counts_water[file] = vals['water']\n",
    "\n",
    "sorted(counts_water.items(), key=lambda x: -x[1])[:5]"
   ]
  },
  {
   "cell_type": "markdown",
   "metadata": {},
   "source": [
    "Messing around with tf-idf measurements\n",
    "-------------------------------------"
   ]
  },
  {
   "cell_type": "markdown",
   "metadata": {},
   "source": [
    "Use pre-processed text (lemmatized) instead; not sure how much difference it makes?\n",
    "(lemmatize.py in this directory should do this  - for some reason trying\n",
    "to do it in jupyter causes issues)"
   ]
  },
  {
   "cell_type": "code",
   "execution_count": 7,
   "metadata": {
    "collapsed": false
   },
   "outputs": [],
   "source": [
    "articles = {}\n",
    "lemmatized_dir = \"../../../lemmatized-input/\"\n",
    "for article_fn in os.listdir(lemmatized_dir):\n",
    "    with open(os.path.join(lemmatized_dir, article_fn), \"r+\") as f:\n",
    "        raw = f.read()\n",
    "\n",
    "    articles[article_fn] = raw"
   ]
  },
  {
   "cell_type": "code",
   "execution_count": 8,
   "metadata": {
    "collapsed": false
   },
   "outputs": [],
   "source": [
    "tfidf = TfidfVectorizer(stop_words='english')\n",
    "tfs = tfidf.fit_transform(articles.values())\n",
    "\n",
    "feature_names = tfidf.get_feature_names()"
   ]
  },
  {
   "cell_type": "markdown",
   "metadata": {},
   "source": [
    "Poking around w/inverse document frequency..."
   ]
  },
  {
   "cell_type": "code",
   "execution_count": 9,
   "metadata": {
    "collapsed": false
   },
   "outputs": [
    {
     "data": {
      "text/plain": [
       "[('petroleum', 7.2952660014396464),\n",
       " ('potable', 7.2952660014396464),\n",
       " ('utilities', 7.2952660014396464),\n",
       " ('ports', 6.8898008933314818),\n",
       " ('sanitary', 6.8898008933314818),\n",
       " ('buses', 6.602118820879701),\n",
       " ('commute', 6.602118820879701),\n",
       " ('electric', 6.602118820879701),\n",
       " ('cars', 6.1966537127715364),\n",
       " ('commuter', 5.9089716403197556),\n",
       " ('contamination', 5.7911886046633718),\n",
       " ('roads', 5.6858280890055459),\n",
       " ('sanitation', 5.6858280890055459),\n",
       " ('coal', 5.503506532211591),\n",
       " ('utility', 5.503506532211591),\n",
       " ('plane', 5.349355852384333),\n",
       " ('transportation', 5.349355852384333),\n",
       " ('fuel', 5.2158244597598102),\n",
       " ('wastewater', 5.2158244597598102),\n",
       " ('shipping', 5.1551998379433757),\n",
       " ('freight', 5.0439742028331507),\n",
       " ('ship', 5.0439742028331507),\n",
       " ('distribution', 4.9926809084456005),\n",
       " ('gas', 4.9926809084456005),\n",
       " ('sewer', 4.8529189660704422),\n",
       " ('sewage', 4.7695373571313908),\n",
       " ('train', 4.7695373571313908),\n",
       " ('sewerage', 4.7303166439781101),\n",
       " ('drinking', 4.5544259775144447),\n",
       " ('rail', 4.5226772791998648),\n",
       " ('electricity', 4.2507435637162239),\n",
       " ('truck', 4.1597717855104968),\n",
       " ('traffic', 3.7399179399502325),\n",
       " ('energy', 3.6979537408512004),\n",
       " ('bus', 3.6317043553099997),\n",
       " ('airport', 3.5939640273271527),\n",
       " ('transport', 3.4886035116693264),\n",
       " ('port', 3.2699143107044968),\n",
       " ('car', 3.1762288266271739),\n",
       " ('water', 2.7626665082863902),\n",
       " ('road', 2.7102985227690741),\n",
       " ('power', 2.4830816460672285)]"
      ]
     },
     "execution_count": 9,
     "metadata": {},
     "output_type": "execute_result"
    }
   ],
   "source": [
    "idf = tfidf.idf_\n",
    "\n",
    "sorted_idf_list = sorted(zip(feature_names, idf), key=lambda x: -x[1])\n",
    "[item for item in sorted_idf_list if item[0] in vocab_set]"
   ]
  },
  {
   "cell_type": "markdown",
   "metadata": {},
   "source": [
    "Looking at a specific doc (one of the ones from above)..."
   ]
  },
  {
   "cell_type": "code",
   "execution_count": 10,
   "metadata": {
    "collapsed": false
   },
   "outputs": [],
   "source": [
    "response = tfidf.transform([articles['article-300.cfm_nzh.txt']])"
   ]
  },
  {
   "cell_type": "code",
   "execution_count": 11,
   "metadata": {
    "collapsed": false
   },
   "outputs": [
    {
     "name": "stdout",
     "output_type": "stream",
     "text": [
      "christchurch         0.21352574781345007\n",
      "say                  0.1776726547411025\n",
      "tuesday              0.16855824681253329\n",
      "people               0.1533461449520673\n",
      "road                 0.1379431753746051\n",
      "water                0.12889111851143256\n",
      "welfare              0.12286218748139419\n",
      "centre               0.12021415657067036\n",
      "city                 0.10855892498989168\n",
      "rescue               0.10826346793262967\n",
      "said                 0.10474989709585704\n",
      "earthquake           0.09993637387245162\n",
      "aftershock           0.09927483206427613\n",
      "supply               0.0974293584909624\n",
      "service              0.09647665237468082\n",
      "defence              0.09358455521209726\n",
      "search               0.09114682947776756\n",
      "civil                0.0910995903518884\n",
      "wa                   0.08830300077597815\n",
      "victim               0.08794343311958258\n"
     ]
    }
   ],
   "source": [
    "dense = response.todense()\n",
    "article = dense.tolist()[0]\n",
    "phrase_scores = [pair for pair in zip(range(0, len(article)), article) if pair[1] > 0]\n",
    "sorted_phrase_scores = sorted(phrase_scores, key=lambda t: t[1] * -1)\n",
    "\n",
    "pairs = [(feature_names[word_id], score) for (word_id, score) in sorted_phrase_scores]\n",
    "\n",
    "# top words for the document\n",
    "for phrase, score in pairs[:20]:\n",
    "    print('{0: <20} {1}'.format(phrase, score))"
   ]
  },
  {
   "cell_type": "code",
   "execution_count": 12,
   "metadata": {
    "collapsed": false
   },
   "outputs": [
    {
     "name": "stdout",
     "output_type": "stream",
     "text": [
      "road                 0.1379431753746051\n",
      "water                0.12889111851143256\n",
      "power                0.068455161753709\n",
      "traffic              0.04758665437987463\n",
      "car                  0.047149997264502974\n",
      "fuel                 0.04424404311501895\n",
      "drinking             0.028975220629250835\n",
      "port                 0.027737557285792837\n",
      "sewer                0.020582820379120022\n",
      "energy               0.01568423420015754\n",
      "bus                  0.015403248836017874\n",
      "sanitation           0.012057730520618965\n",
      "distribution         0.0105877982990522\n",
      "sewage               0.010114585819349663\n",
      "sewerage             0.010031411867794004\n",
      "electricity          0.009014398536363441\n",
      "truck                0.008821477967993246\n",
      "airport              0.007621589865881538\n"
     ]
    }
   ],
   "source": [
    "# looking at our vocab...\n",
    "for phrase, score in [p for p in pairs if p[0] in vocab_set]:\n",
    "    print('{0: <20} {1}'.format(phrase, score))"
   ]
  },
  {
   "cell_type": "markdown",
   "metadata": {},
   "source": [
    "Something different - dispersion plots"
   ]
  },
  {
   "cell_type": "code",
   "execution_count": 13,
   "metadata": {
    "collapsed": false
   },
   "outputs": [
    {
     "data": {
      "image/png": "[encoded data removed]",
      "text/plain": [
       "<matplotlib.figure.Figure at 0x10b7b1128>"
      ]
     },
     "metadata": {},
     "output_type": "display_data"
    },
    {
     "data": {
      "image/png": "[encoded data removed]",
      "text/plain": [
       "<matplotlib.figure.Figure at 0x118ada358>"
      ]
     },
     "metadata": {},
     "output_type": "display_data"
    },
    {
     "data": {
      "image/png": "[encoded data removed]",
      "text/plain": [
       "<matplotlib.figure.Figure at 0x1162f4860>"
      ]
     },
     "metadata": {},
     "output_type": "display_data"
    }
   ],
   "source": [
    "# tok = nltk.tokenize.StanfordTokenizer()\n",
    "words = []\n",
    "for ws in articles.values():\n",
    "    # words.extend(tok.tokenize(ws)) - better but takes forever here\n",
    "    # this is close enough\n",
    "    words.extend(ws.split(\" \"))\n",
    "\n",
    "for category, subset in vocab.items():\n",
    "    nltk.draw.dispersion_plot(words, subset, ignore_case=True, title=category)"
   ]
  }
 ],
 "metadata": {
  "kernelspec": {
   "display_name": "Python 3",
   "language": "python",
   "name": "python3"
  },
  "language_info": {
   "codemirror_mode": {
    "name": "ipython",
    "version": 3
   },
   "file_extension": ".py",
   "mimetype": "text/x-python",
   "name": "python",
   "nbconvert_exporter": "python",
   "pygments_lexer": "ipython3",
   "version": "3.5.0"
  }
 },
 "nbformat": 4,
 "nbformat_minor": 0
}
